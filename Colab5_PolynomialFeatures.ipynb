{
  "cells": [
    {
      "cell_type": "markdown",
      "metadata": {
        "colab_type": "text",
        "id": "view-in-github"
      },
      "source": [
        "<a href=\"https://colab.research.google.com/github/toche7/mdsLab3/blob/student/Colab5_PolynomialFeatures.ipynb\" target=\"_parent\"><img src=\"https://colab.research.google.com/assets/colab-badge.svg\" alt=\"Open In Colab\"/></a>"
      ]
    },
    {
      "cell_type": "markdown",
      "metadata": {
        "collapsed": false,
        "id": "9jIQYv-GwuzG"
      },
      "source": [
        "# Colab 5. Logistic Regression Model and Higher Order with Polynomial Feature"
      ]
    },
    {
      "cell_type": "markdown",
      "metadata": {
        "collapsed": false,
        "id": "FDbtHuerwuzJ"
      },
      "source": [
        "version 001\n"
      ]
    },
    {
      "cell_type": "markdown",
      "metadata": {
        "collapsed": false,
        "id": "l-0aW6TOwuzK"
      },
      "source": [
        "Classification Models มีหลายนั้นมีมากมาย ใน lab นี้จะสรุปตัวหลักๆ เพื่อให้ได้รู้จักและได้ทดลองใช้กัน แต่ก่อนอื่นลองดูข้อมูลที่จะใช้ใน lab นี้กันก่อน\n"
      ]
    },
    {
      "cell_type": "markdown",
      "metadata": {
        "collapsed": false,
        "id": "6b4z1oQ4wuzK"
      },
      "source": []
    },
    {
      "cell_type": "code",
      "execution_count": null,
      "metadata": {
        "id": "UJtHnomGwuzK"
      },
      "outputs": [],
      "source": [
        "import numpy as np\n",
        "import matplotlib.pyplot as plt"
      ]
    },
    {
      "cell_type": "code",
      "execution_count": null,
      "metadata": {
        "id": "7c0MJDQawuzL"
      },
      "outputs": [],
      "source": [
        "import pandas as pd\n",
        "data = pd.read_csv(\"https://raw.githubusercontent.com/toche7/DataSets/main/admit.csv\")\n",
        "y = data.Label"
      ]
    },
    {
      "cell_type": "code",
      "execution_count": null,
      "metadata": {
        "colab": {
          "base_uri": "https://localhost:8080/",
          "height": 436
        },
        "id": "OcUa2ldOwuzM",
        "outputId": "76c4d49d-983e-40cd-f04b-8f8d45a16298"
      },
      "outputs": [],
      "source": [
        "data"
      ]
    },
    {
      "cell_type": "code",
      "execution_count": null,
      "metadata": {
        "colab": {
          "base_uri": "https://localhost:8080/",
          "height": 436
        },
        "id": "ihSkOreUwuzM",
        "outputId": "650afe7d-0844-43d1-885f-73d792f683f3"
      },
      "outputs": [],
      "source": [
        "X = data[['SubjectA','SubjectB']]\n",
        "X"
      ]
    },
    {
      "cell_type": "code",
      "execution_count": null,
      "metadata": {
        "colab": {
          "base_uri": "https://localhost:8080/"
        },
        "id": "Aiu9qnOdwuzN",
        "outputId": "d7c8143c-e3a1-42ca-d5fa-62938bfcf832"
      },
      "outputs": [],
      "source": [
        "X.shape"
      ]
    },
    {
      "cell_type": "code",
      "execution_count": null,
      "metadata": {
        "colab": {
          "base_uri": "https://localhost:8080/",
          "height": 661
        },
        "id": "WdZTI9gpwuzN",
        "outputId": "8739f9df-ca71-4af5-ce57-c5e40a3f022f"
      },
      "outputs": [],
      "source": [
        "import seaborn as sns\n",
        "sns.FacetGrid(data, col = 'Label', height=6).map(plt.scatter, 'SubjectA', 'SubjectB');\n",
        "plt.figure(figsize=(10, 6))\n"
      ]
    },
    {
      "cell_type": "code",
      "execution_count": null,
      "metadata": {
        "colab": {
          "base_uri": "https://localhost:8080/",
          "height": 550
        },
        "id": "WGd1a7NOwuzN",
        "outputId": "78fd7b40-2e55-4e3b-da2a-65837be21dec"
      },
      "outputs": [],
      "source": [
        "sns.pairplot(data,hue= 'Label')"
      ]
    },
    {
      "cell_type": "markdown",
      "metadata": {
        "id": "FQS2QeNEOAJe"
      },
      "source": [
        "## Logistic Regression"
      ]
    },
    {
      "cell_type": "markdown",
      "metadata": {
        "id": "fweqjT13OAID"
      },
      "source": []
    },
    {
      "cell_type": "code",
      "execution_count": null,
      "metadata": {
        "id": "RYjx3vBUN3Iq"
      },
      "outputs": [],
      "source": [
        "from sklearn.linear_model import LogisticRegression\n",
        "logreg = LogisticRegression()"
      ]
    },
    {
      "cell_type": "code",
      "execution_count": null,
      "metadata": {
        "colab": {
          "base_uri": "https://localhost:8080/",
          "height": 93
        },
        "id": "KEvVjyA6N3FT",
        "outputId": "4b667359-1a42-4ce0-cf3f-2f2cf0d8dfaa"
      },
      "outputs": [],
      "source": [
        "logreg.fit(X,y)"
      ]
    },
    {
      "cell_type": "code",
      "execution_count": null,
      "metadata": {
        "colab": {
          "base_uri": "https://localhost:8080/"
        },
        "id": "FucTE3N6N3CI",
        "outputId": "0a8b5123-0444-4e71-9340-44a9dce633af"
      },
      "outputs": [],
      "source": [
        "logreg.score(X,y)"
      ]
    },
    {
      "cell_type": "code",
      "execution_count": null,
      "metadata": {
        "colab": {
          "base_uri": "https://localhost:8080/",
          "height": 572
        },
        "id": "XgQpJFMcN27s",
        "outputId": "6831c798-9115-478f-e295-e64997a1312b"
      },
      "outputs": [],
      "source": [
        "# prompt: create the decision boundary of model logregPoly\n",
        "\n",
        "import matplotlib.pyplot as plt\n",
        "import numpy as np\n",
        "\n",
        "x_min, x_max = X['SubjectA'].min() - 0.1, X['SubjectA'].max() + 0.1\n",
        "y_min, y_max = X['SubjectB'].min() - 0.1, X['SubjectB'].max() + 0.1\n",
        "\n",
        "xx, yy = np.meshgrid(np.linspace(x_min, x_max, 100),\n",
        "                     np.linspace(y_min, y_max, 100))\n",
        "\n",
        "Z = logreg.predict((np.c_[xx.ravel(), yy.ravel()])).reshape(xx.shape)\n",
        "\n",
        "plt.figure(figsize=(10, 6))\n",
        "plt.contourf(xx, yy, Z, alpha=0.3)\n",
        "\n",
        "plt.scatter(X['SubjectA'], X['SubjectB'], c=y, s=50, edgecolors='k')\n",
        "plt.xlabel('SubjectA')\n",
        "plt.ylabel('SubjectB')\n",
        "plt.xlim(xx.min(), xx.max())\n",
        "plt.ylim(yy.min(), yy.max())\n",
        "plt.xticks(())\n",
        "plt.yticks(())\n",
        "\n",
        "plt.show()"
      ]
    },
    {
      "cell_type": "code",
      "execution_count": null,
      "metadata": {
        "id": "qAtbUFMgN2yX"
      },
      "outputs": [],
      "source": []
    },
    {
      "cell_type": "code",
      "execution_count": null,
      "metadata": {
        "colab": {
          "base_uri": "https://localhost:8080/"
        },
        "id": "scUUc3CWPR8y",
        "outputId": "90c96b5f-547f-4c9b-92df-fb8f1e0ddaba"
      },
      "outputs": [],
      "source": [
        "# prompt: create the higher order of feature as polynomial of X\n",
        "\n",
        "from sklearn.preprocessing import PolynomialFeatures\n",
        "\n",
        "poly_features = PolynomialFeatures(degree=2, include_bias=False)\n",
        "\n",
        "X_poly = poly_features.fit_transform(X)\n",
        "\n",
        "print(X_poly.shape)\n"
      ]
    },
    {
      "cell_type": "code",
      "execution_count": null,
      "metadata": {
        "colab": {
          "base_uri": "https://localhost:8080/",
          "height": 436
        },
        "id": "6052_-G3PiZJ",
        "outputId": "8c115e7a-f033-44b9-db2d-23ceb4950fe7"
      },
      "outputs": [],
      "source": [
        "type(X_poly)\n",
        "X_poly_df = pd.DataFrame(X_poly, columns = poly_features.get_feature_names_out())\n",
        "X_poly_df"
      ]
    },
    {
      "cell_type": "code",
      "execution_count": null,
      "metadata": {
        "id": "vFi-_oF5QHwi"
      },
      "outputs": [],
      "source": [
        "from sklearn.linear_model import LogisticRegression\n",
        "logregPoly = LogisticRegression()"
      ]
    },
    {
      "cell_type": "code",
      "execution_count": null,
      "metadata": {
        "colab": {
          "base_uri": "https://localhost:8080/",
          "height": 93
        },
        "id": "CPWuYUUtQPK1",
        "outputId": "81227a69-11d9-457d-872a-0ae5b212fcdf"
      },
      "outputs": [],
      "source": [
        "logregPoly.fit(X_poly_df,y)"
      ]
    },
    {
      "cell_type": "code",
      "execution_count": null,
      "metadata": {
        "colab": {
          "base_uri": "https://localhost:8080/"
        },
        "id": "RKskpAiUQUbn",
        "outputId": "e0e8404d-8b00-48df-973c-b88707c6d688"
      },
      "outputs": [],
      "source": [
        "logregPoly.score(X_poly_df,y)"
      ]
    },
    {
      "cell_type": "markdown",
      "metadata": {
        "collapsed": false,
        "id": "uo75TadiwuzX"
      },
      "source": []
    },
    {
      "cell_type": "markdown",
      "metadata": {
        "collapsed": false,
        "id": "HjqUEElXwuza"
      },
      "source": []
    },
    {
      "cell_type": "code",
      "execution_count": null,
      "metadata": {
        "colab": {
          "base_uri": "https://localhost:8080/",
          "height": 572
        },
        "id": "omL2OtDteNFC",
        "outputId": "17a20cdd-2ede-4391-b194-6eef8517edbd"
      },
      "outputs": [],
      "source": [
        "# prompt: create the decision boundary of model logregPoly\n",
        "\n",
        "import matplotlib.pyplot as plt\n",
        "import numpy as np\n",
        "\n",
        "x_min, x_max = X_poly_df['SubjectA'].min() - 0.1, X_poly_df['SubjectA'].max() + 0.1\n",
        "y_min, y_max = X_poly_df['SubjectB'].min() - 0.1, X_poly_df['SubjectB'].max() + 0.1\n",
        "\n",
        "xx, yy = np.meshgrid(np.linspace(x_min, x_max, 100),\n",
        "                     np.linspace(y_min, y_max, 100))\n",
        "\n",
        "Z = logregPoly.predict(poly_features.fit_transform(np.c_[xx.ravel(), yy.ravel()])).reshape(xx.shape)\n",
        "\n",
        "plt.figure(figsize=(10, 6))\n",
        "plt.contourf(xx, yy, Z, alpha=0.3)\n",
        "\n",
        "plt.scatter(X_poly_df['SubjectA'], X_poly_df['SubjectB'], c=y, s=50, edgecolors='k')\n",
        "plt.xlabel('SubjectA')\n",
        "plt.ylabel('SubjectB')\n",
        "plt.xlim(xx.min(), xx.max())\n",
        "plt.ylim(yy.min(), yy.max())\n",
        "plt.xticks(())\n",
        "plt.yticks(())\n",
        "\n",
        "plt.show()\n"
      ]
    },
    {
      "cell_type": "code",
      "execution_count": null,
      "metadata": {
        "id": "OkZ7JeFSi_Kg"
      },
      "outputs": [],
      "source": []
    },
    {
      "cell_type": "code",
      "execution_count": null,
      "metadata": {
        "id": "7t7y9pmwp3xk"
      },
      "outputs": [],
      "source": []
    }
  ],
  "metadata": {
    "colab": {
      "include_colab_link": true,
      "provenance": []
    },
    "kernelspec": {
      "argv": [
        "/usr/bin/python3",
        "-m",
        "ipykernel",
        "--HistoryManager.enabled=False",
        "--matplotlib=inline",
        "-c",
        "%config InlineBackend.figure_formats = set(['retina'])\nimport matplotlib; matplotlib.rcParams['figure.figsize'] = (12, 7)",
        "-f",
        "{connection_file}"
      ],
      "display_name": "Python 3 (system-wide)",
      "env": {},
      "language": "python",
      "metadata": {
        "cocalc": {
          "description": "Python 3 programming language",
          "priority": 100,
          "url": "https://www.python.org/"
        }
      },
      "name": "python3",
      "resource_dir": "/ext/jupyter/kernels/python3"
    },
    "language_info": {
      "codemirror_mode": {
        "name": "ipython",
        "version": 3
      },
      "file_extension": ".py",
      "mimetype": "text/x-python",
      "name": "python",
      "nbconvert_exporter": "python",
      "pygments_lexer": "ipython3",
      "version": "3.10.13"
    },
    "nbgrader": {
      "cocalc_minimal_stubs": false
    }
  },
  "nbformat": 4,
  "nbformat_minor": 0
}
