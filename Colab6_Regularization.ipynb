{
  "cells": [
    {
      "cell_type": "markdown",
      "metadata": {
        "colab_type": "text",
        "id": "view-in-github"
      },
      "source": [
        "<a href=\"https://colab.research.google.com/github/toche7/mdsLab3/blob/student/Colab6_Regularization.ipynb\" target=\"_parent\"><img src=\"https://colab.research.google.com/assets/colab-badge.svg\" alt=\"Open In Colab\"/></a>"
      ]
    },
    {
      "cell_type": "markdown",
      "metadata": {
        "id": "fIdgdzm5VEGO"
      },
      "source": [
        "# Colab 6. Regularization Technique"
      ]
    },
    {
      "cell_type": "code",
      "execution_count": null,
      "metadata": {
        "id": "vFVB_ogYWzvq"
      },
      "outputs": [],
      "source": [
        "import pandas as pd\n",
        "import numpy as np\n",
        "import matplotlib.pyplot as plt"
      ]
    },
    {
      "cell_type": "markdown",
      "metadata": {
        "id": "cJ8iLyq9XHPB"
      },
      "source": []
    },
    {
      "cell_type": "code",
      "execution_count": null,
      "metadata": {
        "colab": {
          "base_uri": "https://localhost:8080/",
          "height": 223
        },
        "id": "NKvxWWg3W7x0",
        "outputId": "d59c7d2d-26d8-4401-a9d7-ed49b596c590"
      },
      "outputs": [],
      "source": [
        "df = pd.read_csv('https://raw.githubusercontent.com/toche7/DataSets/main/ex2data2.txt',header = None)\n",
        "df.columns = ['test1','test2','y']\n",
        "df.head()"
      ]
    },
    {
      "cell_type": "code",
      "execution_count": null,
      "metadata": {
        "colab": {
          "base_uri": "https://localhost:8080/",
          "height": 486
        },
        "id": "ZtIJSAxKXJtD",
        "outputId": "aabb59c9-b349-4fae-fe53-db4dd2adb31b"
      },
      "outputs": [],
      "source": [
        "import seaborn as sns\n",
        "sns.scatterplot(data=df,x='test1',y='test2',hue='y')"
      ]
    },
    {
      "cell_type": "code",
      "execution_count": null,
      "metadata": {
        "id": "bVL3ALu_X4s1"
      },
      "outputs": [],
      "source": [
        "X = df[['test1','test2']]\n",
        "y = df['y']"
      ]
    },
    {
      "cell_type": "code",
      "execution_count": null,
      "metadata": {
        "colab": {
          "base_uri": "https://localhost:8080/"
        },
        "id": "zFY6dsuJXqNr",
        "outputId": "147dc65b-aef3-4919-a80a-cd96777882bd"
      },
      "outputs": [],
      "source": [
        "\n",
        "from sklearn.preprocessing import PolynomialFeatures\n",
        "\n",
        "poly_features = PolynomialFeatures(degree=6, include_bias=False)\n",
        "\n",
        "X_poly = poly_features.fit_transform(X)\n",
        "\n",
        "print(X_poly.shape)"
      ]
    },
    {
      "cell_type": "code",
      "execution_count": null,
      "metadata": {
        "id": "eBUI1ZFjX7PR"
      },
      "outputs": [],
      "source": [
        "from sklearn.linear_model import LogisticRegression\n",
        "logreg = LogisticRegression(C=1e3)\n"
      ]
    },
    {
      "cell_type": "code",
      "execution_count": null,
      "metadata": {
        "colab": {
          "base_uri": "https://localhost:8080/",
          "height": 228
        },
        "id": "du_9XkU8Y8H8",
        "outputId": "55145849-7b9e-4759-e3c8-93d75a24c761"
      },
      "outputs": [],
      "source": [
        "logreg.fit(X_poly, y)"
      ]
    },
    {
      "cell_type": "code",
      "execution_count": null,
      "metadata": {
        "colab": {
          "base_uri": "https://localhost:8080/"
        },
        "id": "6ZDzglmRZBc_",
        "outputId": "ab3e8f8d-63f8-4a64-a94b-a4b5a1a59e3a"
      },
      "outputs": [],
      "source": [
        "logreg.score(X_poly, y)"
      ]
    },
    {
      "cell_type": "code",
      "execution_count": null,
      "metadata": {
        "colab": {
          "base_uri": "https://localhost:8080/",
          "height": 450
        },
        "id": "S8Ha3jWlZGOj",
        "outputId": "fb93320f-cf76-45c4-d5d2-c0d0e642235f"
      },
      "outputs": [],
      "source": [
        "# prompt: draw the decision boundary of model logreg\n",
        "\n",
        "import matplotlib.pyplot as plt\n",
        "import numpy as np\n",
        "\n",
        "# Create a meshgrid for plotting\n",
        "x1_min, x1_max = X['test1'].min(), X['test1'].max()\n",
        "x2_min, x2_max = X['test2'].min(), X['test2'].max()\n",
        "xx1, xx2 = np.meshgrid(np.linspace(x1_min, x1_max), np.linspace(x2_min, x2_max))\n",
        "\n",
        "# Predict the class labels for the meshgrid points\n",
        "Z = logreg.predict(poly_features.fit_transform(np.c_[xx1.ravel(), xx2.ravel()])).reshape(xx1.shape)\n",
        "\n",
        "# Plot the decision boundary\n",
        "plt.contourf(xx1, xx2, Z, alpha=0.3)\n",
        "\n",
        "# Plot the data points\n",
        "plt.scatter(X['test1'], X['test2'], c=y, cmap='viridis')\n",
        "\n",
        "# Show the plot\n",
        "plt.show()\n"
      ]
    },
    {
      "cell_type": "code",
      "execution_count": null,
      "metadata": {
        "id": "wVAocDiXZhgK"
      },
      "outputs": [],
      "source": []
    }
  ],
  "metadata": {
    "colab": {
      "authorship_tag": "ABX9TyMBlKmRI0Co8FtxxzJy7EVf",
      "include_colab_link": true,
      "provenance": []
    },
    "kernelspec": {
      "display_name": "Python 3",
      "name": "python3"
    },
    "language_info": {
      "codemirror_mode": {
        "name": "ipython",
        "version": 3
      },
      "file_extension": ".py",
      "mimetype": "text/x-python",
      "name": "python",
      "nbconvert_exporter": "python",
      "pygments_lexer": "ipython3",
      "version": "3.10.13"
    }
  },
  "nbformat": 4,
  "nbformat_minor": 0
}
